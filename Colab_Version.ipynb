{
  "cells": [
    {
      "cell_type": "markdown",
      "metadata": {
        "id": "view-in-github",
        "colab_type": "text"
      },
      "source": [
        "<a href=\"https://colab.research.google.com/github/Random-Person-RR/Low-Quality-Inator-WebUI/blob/main/Colab_Version.ipynb\" target=\"_parent\"><img src=\"https://colab.research.google.com/assets/colab-badge.svg\" alt=\"Open In Colab\"/></a>"
      ]
    },
    {
      "cell_type": "code",
      "source": [
        "#@title Run this and that's it\n",
        "from IPython.display import clear_output\n",
        "!wget --no-clobber https://raw.githubusercontent.com/Random-Person-RR/Low-Quality-Inator-WebUI/refs/heads/main/low_quality_convertor_webui.py\n",
        "!pip install flask\n",
        "!sudo apt install yt-dlp\n",
        "!npm install localtunnel\n",
        "!nohup python low_quality_convertor_webui.py > server.log 2>&1 &\n",
        "!nohup npx localtunnel --port 48716 > lt.log 2>&1 &\n",
        "clear_output()\n",
        "print('The IP is the password.\\n')\n",
        "!curl ifconfig.me\n",
        "print('\\n')\n",
        "!tail -f lt.log server.log"
      ],
      "metadata": {
        "id": "8KNXPVMMlwDe",
        "cellView": "form"
      },
      "execution_count": null,
      "outputs": []
    }
  ],
  "metadata": {
    "colab": {
      "provenance": [],
      "include_colab_link": true
    },
    "kernelspec": {
      "display_name": "Python 3",
      "name": "python3"
    }
  },
  "nbformat": 4,
  "nbformat_minor": 0
}